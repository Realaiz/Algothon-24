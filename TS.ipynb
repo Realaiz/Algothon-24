{
 "cells": [
  {
   "cell_type": "code",
   "execution_count": 4,
   "metadata": {},
   "outputs": [],
   "source": [
    "import numpy as np\n",
    "from statsmodels.tsa.arima.model import ARIMA\n",
    "from statsmodels.tsa.stattools import adfuller\n",
    "import warnings\n",
    "import pandas as pd\n",
    "\n",
    "warnings.filterwarnings(\"ignore\")\n",
    "\n",
    "nInst = 50  # number of instruments (stocks)\n",
    "currentPos = np.zeros(nInst)"
   ]
  },
  {
   "cell_type": "code",
   "execution_count": 5,
   "metadata": {},
   "outputs": [],
   "source": [
    "def loadPrices(fn):\n",
    "    global nt, nInst\n",
    "    df = pd.read_csv(fn, sep=\"\\s+\", header=None, index_col=None)\n",
    "    (nt, nInst) = df.shape\n",
    "    return (df.values).T\n",
    "\n",
    "\n",
    "pricesFile = \"./prices.txt\"\n",
    "prcAll = loadPrices(pricesFile)\n",
    "\n",
    "prcHist = pd.DataFrame(prcAll.T)\n",
    "\n",
    "variance = prcHist.var()\n",
    "stdev = np.sqrt(variance)\n",
    "\n"
   ]
  },
  {
   "cell_type": "code",
   "execution_count": 1,
   "metadata": {},
   "outputs": [
    {
     "ename": "NameError",
     "evalue": "name 'np' is not defined",
     "output_type": "error",
     "traceback": [
      "\u001b[0;31m---------------------------------------------------------------------------\u001b[0m",
      "\u001b[0;31mNameError\u001b[0m                                 Traceback (most recent call last)",
      "Cell \u001b[0;32mIn[1], line 1\u001b[0m\n\u001b[0;32m----> 1\u001b[0m log_prices \u001b[38;5;241m=\u001b[39m np\u001b[38;5;241m.\u001b[39mlog(prcHist)\n\u001b[1;32m      2\u001b[0m log_prices_diff \u001b[38;5;241m=\u001b[39m log_prices\u001b[38;5;241m.\u001b[39mdiff(\u001b[38;5;241m12\u001b[39m)\u001b[38;5;241m.\u001b[39mdropna()\n",
      "\u001b[0;31mNameError\u001b[0m: name 'np' is not defined"
     ]
    }
   ],
   "source": [
    "log_prices = np.log(prcHist)\n",
    "log_prices_diff = log_prices.diff(12).dropna()"
   ]
  },
  {
   "cell_type": "code",
   "execution_count": null,
   "metadata": {},
   "outputs": [],
   "source": []
  }
 ],
 "metadata": {
  "kernelspec": {
   "display_name": "base",
   "language": "python",
   "name": "python3"
  },
  "language_info": {
   "codemirror_mode": {
    "name": "ipython",
    "version": 3
   },
   "file_extension": ".py",
   "mimetype": "text/x-python",
   "name": "python",
   "nbconvert_exporter": "python",
   "pygments_lexer": "ipython3",
   "version": "3.11.5"
  }
 },
 "nbformat": 4,
 "nbformat_minor": 2
}
